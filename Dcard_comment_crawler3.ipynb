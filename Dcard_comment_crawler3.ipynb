{
 "cells": [
  {
   "cell_type": "code",
   "execution_count": null,
   "metadata": {},
   "outputs": [],
   "source": [
    "import numpy as np\n",
    "import pandas as pd\n",
    "import requests\n",
    "from bs4 import BeautifulSoup\n",
    "import json\n",
    "import time\n",
    "import re\n",
    "from collections import OrderedDict"
   ]
  },
  {
   "cell_type": "code",
   "execution_count": null,
   "metadata": {},
   "outputs": [],
   "source": [
    "dcard_food = pd.read_json('/Users/raymondyang/Desktop/dcard_project/clean_dcard_food0416.json')"
   ]
  },
  {
   "cell_type": "code",
   "execution_count": null,
   "metadata": {},
   "outputs": [],
   "source": [
    "id_list = dcard_food['ID']\n",
    "list1 = []\n",
    "list2 = []\n",
    "#len(id_list)"
   ]
  },
  {
   "cell_type": "code",
   "execution_count": null,
   "metadata": {},
   "outputs": [],
   "source": [
    "start = time.time()\n",
    "print('The program starts...')\n",
    "count = len(id_list)\n",
    "article_count = 0\n",
    "for i in id_list:\n",
    "    count = count -1\n",
    "    print(count,'...')\n",
    "    dcard_url = 'https://www.dcard.tw/f/food/p/' + str(i)\n",
    "    response = requests.get(dcard_url)\n",
    "    soup = BeautifulSoup(response.text)\n",
    "    comment = soup.find_all(attrs={'CommentEntry_content_1ATrw1'})\n",
    "    # Delete the duplications\n",
    "    all_comment = list(set([j.text for j in comment]))\n",
    "    #Assing a empty string to store the clean items from the list, and make all as a long list\n",
    "    clean_comment = ''\n",
    "    \n",
    "    #Parse each element in the data list\n",
    "    for item in all_comment:\n",
    "        #clean img links\n",
    "        item = re.sub('http(s?):([/|.|\\w|\\s|-])*\\.(?:jpg|gif|png)','',item)\n",
    "        #clean http(s) links\n",
    "        item = re.sub(r'^(http:\\/\\/www\\.|https:\\/\\/www\\.|http:\\/\\/|https:\\/\\/)?[a-z0-9]+([\\-\\.]{1}[a-z0-9]+)*\\.[a-z]{2,5}(:[0-9]{1,5})?(\\/.*)?$','',item)\n",
    "        #clean XD and so on\n",
    "        item = re.sub('.~|^_^|￣^￣|XDD|ಠ_ಠ|๑´ڡ`๑*|｡･ω･｡|˶᷄ ̫ ᷅˵|;´༎ຶД༎ຶ`','',item)\n",
    "        #clean '已經刪除的內容就像 Dcard 一樣，錯過是無法再相見的！'\n",
    "        item = re.sub('已經刪除的內容就像 Dcard 一樣，錯過是無法再相見的！','',item)\n",
    "        #clean any links\n",
    "        item = re.sub('.http[s]?://(?:[a-zA-Z]|[0-9]|[$-_@.&+]|[!*\\(\\),]|(?:%[0-9a-fA-F][0-9a-fA-F]))+$','',item)\n",
    "        #clean emojis\n",
    "        RE_EMOJI = re.compile('(\\u00a9|\\u00ae|[\\u2000-\\u3300]|\\ud83c[\\ud000-\\udfff]|\\ud83d[\\ud000-\\udfff]|\\ud83e[\\ud000-\\udfff]|[\\U00010000-\\U0010ffff])'\n",
    "                              , flags = re.UNICODE)\n",
    "        def strip_emoji(text):\n",
    "            return RE_EMOJI.sub(r'', text)\n",
    "        item=strip_emoji(item)\n",
    "        clean_comment += item\n",
    "        #id_comment_dict['Comment'] = clean_comment\n",
    "    list1.append(clean_comment)\n",
    "    list2.append(i)\n",
    "\n",
    "data_parse = OrderedDict([('ID',list2),('Comment',list1)])\n",
    "dcard_food_df = pd.DataFrame(data_parse)\n",
    "dcard_food_df\n",
    "\n",
    "with open('dcard_food_comment0416.json', 'w', encoding='utf-8') as file:\n",
    "        dcard_food_df.to_json(file, force_ascii=False, orient='records')\n",
    "end = time.time()\n",
    "minute = round((end - start)/60)\n",
    "second = round((end - start)%60)\n",
    "#print(dcard_food_df.head())  # show the front rows\n",
    "print('Finished')\n",
    "print('Total time:',minute,'m',second,'s')"
   ]
  },
  {
   "cell_type": "code",
   "execution_count": null,
   "metadata": {},
   "outputs": [],
   "source": [
    "# Read the file we just created, make sure every thing is correct\n",
    "new_dcard_comment = pd.read_json('/Users/raymondyang/Desktop/dcard_project/dcard_food_comment0416.json')"
   ]
  },
  {
   "cell_type": "code",
   "execution_count": null,
   "metadata": {},
   "outputs": [],
   "source": [
    "new_dcard_comment.head()"
   ]
  },
  {
   "cell_type": "code",
   "execution_count": null,
   "metadata": {},
   "outputs": [],
   "source": [
    "new_dcard_comment.tail()"
   ]
  },
  {
   "cell_type": "code",
   "execution_count": null,
   "metadata": {},
   "outputs": [],
   "source": [
    "len(new_dcard_comment)"
   ]
  },
  {
   "cell_type": "code",
   "execution_count": null,
   "metadata": {},
   "outputs": [],
   "source": []
  }
 ],
 "metadata": {
  "kernelspec": {
   "display_name": "Python 3",
   "language": "python",
   "name": "python3"
  },
  "language_info": {
   "codemirror_mode": {
    "name": "ipython",
    "version": 3
   },
   "file_extension": ".py",
   "mimetype": "text/x-python",
   "name": "python",
   "nbconvert_exporter": "python",
   "pygments_lexer": "ipython3",
   "version": "3.7.1"
  }
 },
 "nbformat": 4,
 "nbformat_minor": 2
}
